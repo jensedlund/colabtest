{
  "nbformat": 4,
  "nbformat_minor": 0,
  "metadata": {
    "colab": {
      "name": "Histogram pitfalls.ipynb",
      "provenance": [],
      "authorship_tag": "ABX9TyNwFLkH52Nq108sHb70Wdnx",
      "include_colab_link": true
    },
    "kernelspec": {
      "name": "python3",
      "display_name": "Python 3"
    }
  },
  "cells": [
    {
      "cell_type": "markdown",
      "metadata": {
        "id": "view-in-github",
        "colab_type": "text"
      },
      "source": [
        "<a href=\"https://colab.research.google.com/github/jensedlund/colabtest/blob/main/Histogram_pitfalls.ipynb\" target=\"_parent\"><img src=\"https://colab.research.google.com/assets/colab-badge.svg\" alt=\"Open In Colab\"/></a>"
      ]
    },
    {
      "cell_type": "code",
      "metadata": {
        "id": "ocxVvZS75bma"
      },
      "source": [
        ""
      ],
      "execution_count": null,
      "outputs": []
    },
    {
      "cell_type": "markdown",
      "metadata": {
        "id": "y1pBgn5N5gHJ"
      },
      "source": [
        "#Some things to be aware of when using  historgrams for data visualization and analysis\n",
        "\n",
        "This codebook illustrates some of the pitfalls one should avoid and some effects to be aware of when it comes to histograms. We focus here on the effects of *bin size*  - a parameter setting that is often left for the  default settings (which may mean that they are automatically set to values based on the data). This is fine, most of the time, but sometimes it can misrepresent the data or even be directly misleading.\n",
        "\n",
        "For a nice walktrhough of binsize concerns, with links to further readings, see [this *from data to viz* page](https://www.data-to-viz.com/caveat/bin_size.html) (thanks Marcin!)."
      ]
    },
    {
      "cell_type": "markdown",
      "metadata": {
        "id": "Qc11o4N6DugL"
      },
      "source": [
        "##Example data\n",
        "\n",
        "I will use a for me well-know data set: the ICI or ISI (inter-contribution interval or inter-speaker interval) in spoken dialogues. The interval is defined as the time between speech offset from a first speaker to speech onset of a second speaker, in dialogue, when the current speaker shifts. Positive intervals means that there was a silent gap between the speakers utterances, Negative intervals mean that there was some speech overlap, and 0 interval means that the second speaker started just as the first stopped.\n",
        "\n",
        "The distribition of such data tends to be sort of Gaussian, but tilted and skewed, and perhaps showing evidence of several modes.\n",
        " "
      ]
    },
    {
      "cell_type": "code",
      "metadata": {
        "id": "JN_xP6xjFA0A"
      },
      "source": [
        "# Load example data"
      ],
      "execution_count": null,
      "outputs": []
    },
    {
      "cell_type": "markdown",
      "metadata": {
        "id": "ItO9e6D2FDh2"
      },
      "source": [
        "##Histogram software\n",
        "\n",
        "We will use Python's `numpy`package to calculate the histograms under different bin size settings, and illustrate the results with Python's `matplotlib`. `numpy`is widely used in data science, and its `histogram`function is very similar to what you find in other well-known data analysis software (e.g. R, Matlab, or SPSS)."
      ]
    },
    {
      "cell_type": "code",
      "metadata": {
        "id": "QfVtACzmIJwI"
      },
      "source": [
        "# Load Numpy\n",
        "\n",
        "# Load Matplotlib\n"
      ],
      "execution_count": null,
      "outputs": []
    },
    {
      "cell_type": "markdown",
      "metadata": {
        "id": "_CHaAbcbIYrR"
      },
      "source": [
        "# Bin size options in histograms\n",
        "\n",
        "In the several sections, I will start out by showing the results of the default settings on our data, and then go over the various options we have to manually override these defaults, ranging from little manual input to full manual control. \n",
        "\n",
        "After that, we will look at a couple of histogram visualisations of this or similar data from the literature on dialogue flow, and see what it might take to achieve those plots.\n",
        "\n",
        "Finally, I will return to some of the examples and discuss them in the light of the science surrounding this particular example data, to illustrate that it is also important to interpret the threshoulds, bin sizes and such in terms of what they might mean.\n",
        "\n",
        "Talk about defaults...\n",
        "\n",
        "Talk about manual settings...\n",
        "\n",
        "From some manual intevention to a lot...\n",
        "\n",
        "Talk about representativity...\n"
      ]
    },
    {
      "cell_type": "markdown",
      "metadata": {
        "id": "Y3_CzvL8ItZu"
      },
      "source": [
        ""
      ]
    }
  ]
}